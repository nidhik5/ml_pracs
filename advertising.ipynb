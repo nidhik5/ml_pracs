{
 "cells": [
  {
   "cell_type": "code",
   "execution_count": 1,
   "id": "cf4cf0ae",
   "metadata": {},
   "outputs": [],
   "source": [
    "import pandas as pd\n",
    "import numpy as np"
   ]
  },
  {
   "cell_type": "code",
   "execution_count": 3,
   "id": "1ffd811a",
   "metadata": {},
   "outputs": [],
   "source": [
    "df=pd.read_csv(r\"C:\\Users\\Nidhi\\Desktop\\sem 7\\ml\\ML datasets\\ML datasets\\advertising\\Advertising Budget and Sales.csv\")"
   ]
  },
  {
   "cell_type": "code",
   "execution_count": 4,
   "id": "5f504601",
   "metadata": {},
   "outputs": [
    {
     "data": {
      "text/html": [
       "<div>\n",
       "<style scoped>\n",
       "    .dataframe tbody tr th:only-of-type {\n",
       "        vertical-align: middle;\n",
       "    }\n",
       "\n",
       "    .dataframe tbody tr th {\n",
       "        vertical-align: top;\n",
       "    }\n",
       "\n",
       "    .dataframe thead th {\n",
       "        text-align: right;\n",
       "    }\n",
       "</style>\n",
       "<table border=\"1\" class=\"dataframe\">\n",
       "  <thead>\n",
       "    <tr style=\"text-align: right;\">\n",
       "      <th></th>\n",
       "      <th>Unnamed: 0</th>\n",
       "      <th>TV Ad Budget ($)</th>\n",
       "      <th>Radio Ad Budget ($)</th>\n",
       "      <th>Newspaper Ad Budget ($)</th>\n",
       "      <th>Sales ($)</th>\n",
       "    </tr>\n",
       "  </thead>\n",
       "  <tbody>\n",
       "    <tr>\n",
       "      <th>0</th>\n",
       "      <td>1</td>\n",
       "      <td>230.1</td>\n",
       "      <td>37.8</td>\n",
       "      <td>69.2</td>\n",
       "      <td>22.1</td>\n",
       "    </tr>\n",
       "    <tr>\n",
       "      <th>1</th>\n",
       "      <td>2</td>\n",
       "      <td>44.5</td>\n",
       "      <td>39.3</td>\n",
       "      <td>45.1</td>\n",
       "      <td>10.4</td>\n",
       "    </tr>\n",
       "    <tr>\n",
       "      <th>2</th>\n",
       "      <td>3</td>\n",
       "      <td>17.2</td>\n",
       "      <td>45.9</td>\n",
       "      <td>69.3</td>\n",
       "      <td>9.3</td>\n",
       "    </tr>\n",
       "    <tr>\n",
       "      <th>3</th>\n",
       "      <td>4</td>\n",
       "      <td>151.5</td>\n",
       "      <td>41.3</td>\n",
       "      <td>58.5</td>\n",
       "      <td>18.5</td>\n",
       "    </tr>\n",
       "    <tr>\n",
       "      <th>4</th>\n",
       "      <td>5</td>\n",
       "      <td>180.8</td>\n",
       "      <td>10.8</td>\n",
       "      <td>58.4</td>\n",
       "      <td>12.9</td>\n",
       "    </tr>\n",
       "  </tbody>\n",
       "</table>\n",
       "</div>"
      ],
      "text/plain": [
       "   Unnamed: 0  TV Ad Budget ($)  Radio Ad Budget ($)  Newspaper Ad Budget ($)  \\\n",
       "0           1             230.1                 37.8                     69.2   \n",
       "1           2              44.5                 39.3                     45.1   \n",
       "2           3              17.2                 45.9                     69.3   \n",
       "3           4             151.5                 41.3                     58.5   \n",
       "4           5             180.8                 10.8                     58.4   \n",
       "\n",
       "   Sales ($)  \n",
       "0       22.1  \n",
       "1       10.4  \n",
       "2        9.3  \n",
       "3       18.5  \n",
       "4       12.9  "
      ]
     },
     "execution_count": 4,
     "metadata": {},
     "output_type": "execute_result"
    }
   ],
   "source": [
    "df.head()"
   ]
  },
  {
   "cell_type": "code",
   "execution_count": 5,
   "id": "3e3fa58e",
   "metadata": {},
   "outputs": [
    {
     "data": {
      "text/plain": [
       "Unnamed: 0                 0\n",
       "TV Ad Budget ($)           0\n",
       "Radio Ad Budget ($)        0\n",
       "Newspaper Ad Budget ($)    0\n",
       "Sales ($)                  0\n",
       "dtype: int64"
      ]
     },
     "execution_count": 5,
     "metadata": {},
     "output_type": "execute_result"
    }
   ],
   "source": [
    "df.isnull().sum()"
   ]
  },
  {
   "cell_type": "code",
   "execution_count": 6,
   "id": "76cb8d7b",
   "metadata": {},
   "outputs": [
    {
     "name": "stdout",
     "output_type": "stream",
     "text": [
      "\n",
      "Basic statistics of the dataset:\n",
      "        Unnamed: 0  TV Ad Budget ($)  Radio Ad Budget ($)  \\\n",
      "count  200.000000        200.000000           200.000000   \n",
      "mean   100.500000        147.042500            23.264000   \n",
      "std     57.879185         85.854236            14.846809   \n",
      "min      1.000000          0.700000             0.000000   \n",
      "25%     50.750000         74.375000             9.975000   \n",
      "50%    100.500000        149.750000            22.900000   \n",
      "75%    150.250000        218.825000            36.525000   \n",
      "max    200.000000        296.400000            49.600000   \n",
      "\n",
      "       Newspaper Ad Budget ($)   Sales ($)  \n",
      "count               200.000000  200.000000  \n",
      "mean                 30.554000   14.022500  \n",
      "std                  21.778621    5.217457  \n",
      "min                   0.300000    1.600000  \n",
      "25%                  12.750000   10.375000  \n",
      "50%                  25.750000   12.900000  \n",
      "75%                  45.100000   17.400000  \n",
      "max                 114.000000   27.000000  \n"
     ]
    }
   ],
   "source": [
    "print(\"\\nBasic statistics of the dataset:\\n\", df.describe())"
   ]
  },
  {
   "cell_type": "code",
   "execution_count": 8,
   "id": "d1f3c11e",
   "metadata": {},
   "outputs": [],
   "source": [
    "# Step 2: Build Regression Model to predict sales using Newspaper and Radio features\n",
    "# Prepare feature matrix (X) and target vector (y)\n",
    "X = df[['Radio Ad Budget ($)', 'Newspaper Ad Budget ($)']].values  # Independent variables (Radio and Newspaper)\n",
    "y = df['Sales ($)'].values    # Dependent variable (Sales)"
   ]
  },
  {
   "cell_type": "code",
   "execution_count": 9,
   "id": "f5ef5448",
   "metadata": {},
   "outputs": [
    {
     "name": "stdout",
     "output_type": "stream",
     "text": [
      "\n",
      "Coefficients (theta): [9.18892046e+00 1.99044594e-01 6.64417452e-03]\n",
      "\n",
      "RMSE on the dataset: 4.251373471388388\n"
     ]
    }
   ],
   "source": [
    "# Adding bias (ones) column to X (for intercept)\n",
    "X_b = np.c_[np.ones((X.shape[0], 1)), X]  # Add bias term\n",
    "\n",
    "# Normal Equation: theta = (X^T * X)^(-1) * X^T * y\n",
    "theta_best = np.linalg.inv(X_b.T.dot(X_b)).dot(X_b.T).dot(y)\n",
    "\n",
    "# Displaying the coefficients (intercept and slopes for Radio and Newspaper)\n",
    "print(\"\\nCoefficients (theta):\", theta_best)\n",
    "\n",
    "# Step 3: Predict and Evaluate the Model\n",
    "# Predicting sales using the learned model\n",
    "y_pred = X_b.dot(theta_best)\n",
    "\n",
    "# Calculating RMSE (Root Mean Squared Error)\n",
    "rmse = np.sqrt(np.mean((y_pred - y) ** 2))\n",
    "print(\"\\nRMSE on the dataset:\", rmse)"
   ]
  },
  {
   "cell_type": "code",
   "execution_count": 13,
   "id": "b1a072e9",
   "metadata": {},
   "outputs": [
    {
     "name": "stdout",
     "output_type": "stream",
     "text": [
      "Enter radio ad spend (in thousands): 12.3\n",
      "Enter newspaper ad spend (in thousands): 25\n",
      "[11.80327333]\n"
     ]
    }
   ],
   "source": [
    "radio_input = float(input(\"Enter radio ad spend (in thousands): \"))\n",
    "newspaper_input = float(input(\"Enter newspaper ad spend (in thousands): \"))\n",
    "\n",
    "# Creating a new input array with bias\n",
    "X_new = np.array([[1, radio_input, newspaper_input]])  # Add the bias term\n",
    "\n",
    "# Predicting sales using the learned model\n",
    "predicted_sales = X_new.dot(theta_best)\n",
    "print(predicted_sales)"
   ]
  },
  {
   "cell_type": "code",
   "execution_count": null,
   "id": "e5267502",
   "metadata": {},
   "outputs": [],
   "source": []
  }
 ],
 "metadata": {
  "kernelspec": {
   "display_name": "Python 3 (ipykernel)",
   "language": "python",
   "name": "python3"
  },
  "language_info": {
   "codemirror_mode": {
    "name": "ipython",
    "version": 3
   },
   "file_extension": ".py",
   "mimetype": "text/x-python",
   "name": "python",
   "nbconvert_exporter": "python",
   "pygments_lexer": "ipython3",
   "version": "3.11.0"
  }
 },
 "nbformat": 4,
 "nbformat_minor": 5
}
